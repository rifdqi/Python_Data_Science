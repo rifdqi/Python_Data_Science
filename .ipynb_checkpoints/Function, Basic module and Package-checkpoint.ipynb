{
 "cells": [
  {
   "cell_type": "code",
   "execution_count": 1,
   "id": "5737895d-d1a4-4f9c-9ac1-d1dfe9105a82",
   "metadata": {
    "tags": []
   },
   "outputs": [],
   "source": [
    "def halo(b,v):\n",
    "    '''function ini akan menyapa kamu\n",
    "    ntah itu siapa, tinggal memesukkan\n",
    "    nama lalu kondisi\n",
    "    '''\n",
    "    a = f'halo {b} yang {v}'\n",
    "    return a"
   ]
  },
  {
   "cell_type": "code",
   "execution_count": 2,
   "id": "9192f7ff-4caa-42ec-aed7-43f7abef61f7",
   "metadata": {},
   "outputs": [
    {
     "data": {
      "text/plain": [
       "'halo sedang berbahagia yang rifqi'"
      ]
     },
     "execution_count": 2,
     "metadata": {},
     "output_type": "execute_result"
    }
   ],
   "source": [
    "halo('sedang berbahagia','rifqi')"
   ]
  },
  {
   "cell_type": "code",
   "execution_count": 3,
   "id": "e19d7ca2-5913-4385-8815-9a93c333b714",
   "metadata": {},
   "outputs": [
    {
     "name": "stdout",
     "output_type": "stream",
     "text": [
      "halo\n",
      "33\n"
     ]
    }
   ],
   "source": [
    "def printme(str, angka = 9):\n",
    "    print(str)\n",
    "    print(angka * 3)\n",
    "    return\n",
    "\n",
    "printme(angka = 11, str ='halo')"
   ]
  },
  {
   "cell_type": "code",
   "execution_count": 4,
   "id": "a29526ab-237c-4cef-b2dd-763fbe5a93a5",
   "metadata": {},
   "outputs": [
    {
     "name": "stdout",
     "output_type": "stream",
     "text": [
      "penjumlahan dari 2 dan 2 adalah 4\n",
      "None\n"
     ]
    }
   ],
   "source": [
    "def jumlah(n1, n2):\n",
    "    print(f\"penjumlahan dari {n1} dan {n2} adalah {n1 + n2}\")\n",
    "    # return n1 + n2\n",
    "\n",
    "print(jumlah(2,2))\n",
    "\n",
    "a = lambda n1, n2: n1 + n2  \n",
    "# print(a)"
   ]
  },
  {
   "cell_type": "code",
   "execution_count": 5,
   "id": "69cb2226-063d-4969-a6e7-c50ec88d852a",
   "metadata": {},
   "outputs": [
    {
     "name": "stdout",
     "output_type": "stream",
     "text": [
      "variabel total di dalam function: 30\n",
      "variabel total di luar function: 0\n"
     ]
    }
   ],
   "source": [
    "total = 0\n",
    "\n",
    "def jumlah(arg1, arg2):\n",
    "    \n",
    "    total = arg1 + arg2\n",
    "    print(\"variabel total di dalam function:\", total)\n",
    "    return total\n",
    "\n",
    "jumlah(10,20)\n",
    "print(\"variabel total di luar function:\", total)"
   ]
  },
  {
   "cell_type": "code",
   "execution_count": 6,
   "id": "9da9a199-4c72-45ee-bd3f-5a60e008c43b",
   "metadata": {},
   "outputs": [],
   "source": [
    "import mod"
   ]
  },
  {
   "cell_type": "code",
   "execution_count": 7,
   "id": "2abbff70-8151-46c5-9444-1b9760873ed3",
   "metadata": {},
   "outputs": [
    {
     "name": "stdout",
     "output_type": "stream",
     "text": [
      "80\n",
      "50\n"
     ]
    }
   ],
   "source": [
    "jumlahKucing = 50\n",
    "\n",
    "def jumlahHewan():\n",
    "    jumlahAnjing = 30\n",
    "    # jumlahKucing = 10\n",
    "    return jumlahAnjing + jumlahKucing\n",
    "\n",
    "print(jumlahHewan())\n",
    "print(jumlahKucing)"
   ]
  },
  {
   "cell_type": "code",
   "execution_count": 8,
   "id": "eb6bc3cb-6a09-4e0f-977b-21aacb28f9e2",
   "metadata": {},
   "outputs": [],
   "source": [
    "import mod as m"
   ]
  },
  {
   "cell_type": "code",
   "execution_count": 9,
   "id": "25ea9f10-00ea-49b5-8aa8-0e39db200543",
   "metadata": {},
   "outputs": [
    {
     "data": {
      "text/plain": [
       "'Hactive8 Python'"
      ]
     },
     "execution_count": 9,
     "metadata": {},
     "output_type": "execute_result"
    }
   ],
   "source": [
    "mod.s"
   ]
  },
  {
   "cell_type": "code",
   "execution_count": 10,
   "id": "ade7225a-04e6-46ce-8463-abb79e137a28",
   "metadata": {
    "tags": []
   },
   "outputs": [
    {
     "name": "stdout",
     "output_type": "stream",
     "text": [
      "Hactive8 Python\n",
      "arg = ini argumennya\n"
     ]
    },
    {
     "data": {
      "text/plain": [
       "<mod.Foo at 0x1bcaec9d090>"
      ]
     },
     "execution_count": 10,
     "metadata": {},
     "output_type": "execute_result"
    }
   ],
   "source": [
    "print(mod.s)\n",
    "mod.a\n",
    "mod.foo('ini argumennya')\n",
    "x = mod.Foo()\n",
    "x"
   ]
  },
  {
   "cell_type": "code",
   "execution_count": 11,
   "id": "cb910e2e-b550-40b8-bf8d-1d762d30b277",
   "metadata": {},
   "outputs": [],
   "source": [
    "s = 10"
   ]
  },
  {
   "cell_type": "code",
   "execution_count": 12,
   "id": "82743aed-2ae8-41e2-8d5d-9d021a63474f",
   "metadata": {},
   "outputs": [
    {
     "name": "stdout",
     "output_type": "stream",
     "text": [
      "10\n",
      "Hactive8 Python\n"
     ]
    }
   ],
   "source": [
    "from mod import s as stri\n",
    "print(s)\n",
    "print(stri)"
   ]
  },
  {
   "cell_type": "code",
   "execution_count": 13,
   "id": "cac766b2-8e02-465e-b40f-5b8cbee87a8f",
   "metadata": {},
   "outputs": [],
   "source": [
    "import pandas as pd\n",
    "import numpy as np\n",
    "import matplotlib.pyplot as plt"
   ]
  },
  {
   "cell_type": "code",
   "execution_count": 14,
   "id": "edbb380f-49d5-4db0-aca5-c11b731522c9",
   "metadata": {},
   "outputs": [
    {
     "name": "stdout",
     "output_type": "stream",
     "text": [
      "[100, 200, 300]\n"
     ]
    }
   ],
   "source": [
    "def coba():\n",
    "    from mod import a\n",
    "    print(a)\n",
    "\n",
    "coba()"
   ]
  },
  {
   "cell_type": "code",
   "execution_count": 15,
   "id": "8aaf8dc8-7e96-47cc-ab26-6d49b3d89cde",
   "metadata": {},
   "outputs": [
    {
     "name": "stdout",
     "output_type": "stream",
     "text": [
      "module not found\n"
     ]
    }
   ],
   "source": [
    "try:\n",
    "    from mod import b\n",
    "except ImportError:\n",
    "    print('module not found')"
   ]
  },
  {
   "cell_type": "code",
   "execution_count": 16,
   "id": "045ece05-c7be-4b35-97bf-d454fc09a3bc",
   "metadata": {},
   "outputs": [
    {
     "data": {
      "text/plain": [
       "['In',\n",
       " 'Out',\n",
       " '_',\n",
       " '_10',\n",
       " '_2',\n",
       " '_9',\n",
       " '__',\n",
       " '___',\n",
       " '__builtin__',\n",
       " '__builtins__',\n",
       " '__doc__',\n",
       " '__loader__',\n",
       " '__name__',\n",
       " '__package__',\n",
       " '__spec__',\n",
       " '_dh',\n",
       " '_i',\n",
       " '_i1',\n",
       " '_i10',\n",
       " '_i11',\n",
       " '_i12',\n",
       " '_i13',\n",
       " '_i14',\n",
       " '_i15',\n",
       " '_i16',\n",
       " '_i2',\n",
       " '_i3',\n",
       " '_i4',\n",
       " '_i5',\n",
       " '_i6',\n",
       " '_i7',\n",
       " '_i8',\n",
       " '_i9',\n",
       " '_ih',\n",
       " '_ii',\n",
       " '_iii',\n",
       " '_oh',\n",
       " 'a',\n",
       " 'coba',\n",
       " 'exit',\n",
       " 'get_ipython',\n",
       " 'hack',\n",
       " 'halo',\n",
       " 'jumlah',\n",
       " 'jumlahHewan',\n",
       " 'jumlahKucing',\n",
       " 'm',\n",
       " 'mod',\n",
       " 'np',\n",
       " 'open',\n",
       " 'pd',\n",
       " 'plt',\n",
       " 'printme',\n",
       " 'quit',\n",
       " 's',\n",
       " 'stri',\n",
       " 'total',\n",
       " 'x']"
      ]
     },
     "execution_count": 16,
     "metadata": {},
     "output_type": "execute_result"
    }
   ],
   "source": [
    "hack = 8\n",
    "dir()"
   ]
  },
  {
   "cell_type": "code",
   "execution_count": 17,
   "id": "adab6d09-cd46-48f3-8d08-6f70d18bfba1",
   "metadata": {},
   "outputs": [],
   "source": [
    "import pandas \n",
    "import numpy\n",
    "import seaborn"
   ]
  },
  {
   "cell_type": "code",
   "execution_count": 18,
   "id": "8901c069-8449-4988-bcd8-5409809dcc37",
   "metadata": {},
   "outputs": [
    {
     "data": {
      "text/plain": [
       "['In',\n",
       " 'Out',\n",
       " '_',\n",
       " '_10',\n",
       " '_16',\n",
       " '_2',\n",
       " '_9',\n",
       " '__',\n",
       " '___',\n",
       " '__builtin__',\n",
       " '__builtins__',\n",
       " '__doc__',\n",
       " '__loader__',\n",
       " '__name__',\n",
       " '__package__',\n",
       " '__spec__',\n",
       " '_dh',\n",
       " '_i',\n",
       " '_i1',\n",
       " '_i10',\n",
       " '_i11',\n",
       " '_i12',\n",
       " '_i13',\n",
       " '_i14',\n",
       " '_i15',\n",
       " '_i16',\n",
       " '_i17',\n",
       " '_i18',\n",
       " '_i2',\n",
       " '_i3',\n",
       " '_i4',\n",
       " '_i5',\n",
       " '_i6',\n",
       " '_i7',\n",
       " '_i8',\n",
       " '_i9',\n",
       " '_ih',\n",
       " '_ii',\n",
       " '_iii',\n",
       " '_oh',\n",
       " 'a',\n",
       " 'coba',\n",
       " 'exit',\n",
       " 'get_ipython',\n",
       " 'hack',\n",
       " 'halo',\n",
       " 'jumlah',\n",
       " 'jumlahHewan',\n",
       " 'jumlahKucing',\n",
       " 'm',\n",
       " 'mod',\n",
       " 'np',\n",
       " 'numpy',\n",
       " 'open',\n",
       " 'pandas',\n",
       " 'pd',\n",
       " 'plt',\n",
       " 'printme',\n",
       " 'quit',\n",
       " 's',\n",
       " 'seaborn',\n",
       " 'stri',\n",
       " 'total',\n",
       " 'x']"
      ]
     },
     "execution_count": 18,
     "metadata": {},
     "output_type": "execute_result"
    }
   ],
   "source": [
    "dir()"
   ]
  },
  {
   "cell_type": "code",
   "execution_count": 20,
   "id": "a48bd1c9-2d53-4fd0-89f6-52e2ddf8e7d8",
   "metadata": {},
   "outputs": [
    {
     "data": {
      "text/plain": [
       "[100, 200, 300]"
      ]
     },
     "execution_count": 20,
     "metadata": {},
     "output_type": "execute_result"
    }
   ],
   "source": [
    "mod.a"
   ]
  }
 ],
 "metadata": {
  "kernelspec": {
   "display_name": "Python 3 (ipykernel)",
   "language": "python",
   "name": "python3"
  },
  "language_info": {
   "codemirror_mode": {
    "name": "ipython",
    "version": 3
   },
   "file_extension": ".py",
   "mimetype": "text/x-python",
   "name": "python",
   "nbconvert_exporter": "python",
   "pygments_lexer": "ipython3",
   "version": "3.11.4"
  }
 },
 "nbformat": 4,
 "nbformat_minor": 5
}
