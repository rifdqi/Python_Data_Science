{
 "cells": [
  {
   "cell_type": "code",
   "execution_count": 1,
   "id": "bcdcc83d-8820-43d2-8d64-5f2109823ee5",
   "metadata": {},
   "outputs": [
    {
     "name": "stdout",
     "output_type": "stream",
     "text": [
      "10\n",
      "100\n"
     ]
    }
   ],
   "source": [
    "print(10)\n",
    "print(100)"
   ]
  },
  {
   "cell_type": "code",
   "execution_count": 27,
   "id": "9c317e63-806e-4451-8c81-4755c17c08c8",
   "metadata": {},
   "outputs": [
    {
     "name": "stdout",
     "output_type": "stream",
     "text": [
      "0.00042\n",
      "<class 'float'>\n"
     ]
    }
   ],
   "source": [
    "print(4.2E-4)\n",
    "print(type(4.2E-4))"
   ]
  },
  {
   "cell_type": "code",
   "execution_count": 48,
   "id": "4ae8196d-d0e5-4481-aa57-d8c1fcc53e1c",
   "metadata": {},
   "outputs": [
    {
     "data": {
      "text/plain": [
       "'Hello World'"
      ]
     },
     "metadata": {},
     "output_type": "display_data"
    },
    {
     "name": "stdout",
     "output_type": "stream",
     "text": [
      "Hello World\n",
      "<class 'str'>\n",
      "\"Hello World\"\n",
      "Can't\n",
      "\"She\" knows\n",
      " \"She\" knows she can't do it\" \n",
      "\n"
     ]
    }
   ],
   "source": [
    "display(\"Hello World\")\n",
    "print('Hello World')\n",
    "print(type(\"apa\"))\n",
    "print('\"Hello World\"')\n",
    "print(\"Can't\")\n",
    "print('\"She\" knows')\n",
    "print(''' \"She\" knows she can't do it\" ''')\n",
    "print('')"
   ]
  },
  {
   "cell_type": "code",
   "execution_count": 57,
   "id": "b471d8c9-60d7-4880-aff7-9986e31c08b4",
   "metadata": {},
   "outputs": [
    {
     "name": "stdout",
     "output_type": "stream",
     "text": [
      "True\n",
      "False\n",
      "1\n",
      "2\n",
      "0\n"
     ]
    }
   ],
   "source": [
    "print(True)\n",
    "print(False)\n",
    "\n",
    "print(True + False)\n",
    "print(True + True)\n",
    "print(False + False)"
   ]
  },
  {
   "cell_type": "code",
   "execution_count": 63,
   "id": "c20e4b24-c39c-4e00-bf5a-7dd800a5bcf4",
   "metadata": {},
   "outputs": [
    {
     "name": "stdout",
     "output_type": "stream",
     "text": [
      "b\n"
     ]
    },
    {
     "data": {
      "text/plain": [
       "500"
      ]
     },
     "execution_count": 63,
     "metadata": {},
     "output_type": "execute_result"
    }
   ],
   "source": [
    "a = 'b'\n",
    "print(a)\n",
    "\n",
    "a = 500\n",
    "a"
   ]
  },
  {
   "cell_type": "code",
   "execution_count": 68,
   "id": "a6114c1d-294c-4b6d-a760-6aa94c68b9b8",
   "metadata": {},
   "outputs": [
    {
     "name": "stdout",
     "output_type": "stream",
     "text": [
      "10\n",
      "10\n",
      "10\n",
      "1\n",
      "2\n",
      "a\n"
     ]
    }
   ],
   "source": [
    "q = w = e = 10\n",
    "print(q)\n",
    "print(w)\n",
    "print(e)\n",
    "\n",
    "z, x, y = 1, 2, 'a'\n",
    "print(z)\n",
    "print(x)\n",
    "print(y)"
   ]
  },
  {
   "cell_type": "code",
   "execution_count": 76,
   "id": "eb27b99e-79d5-444a-a73f-7e872e8d7565",
   "metadata": {},
   "outputs": [
    {
     "data": {
      "text/plain": [
       "'dor'"
      ]
     },
     "execution_count": 76,
     "metadata": {},
     "output_type": "execute_result"
    }
   ],
   "source": [
    "age = 25\n",
    "_shot1 = 'dor'\n",
    "_shot1"
   ]
  },
  {
   "cell_type": "code",
   "execution_count": 87,
   "id": "412d99e5-735f-486d-9891-41c1530f43ab",
   "metadata": {},
   "outputs": [
    {
     "name": "stdout",
     "output_type": "stream",
     "text": [
      "7\n",
      "3\n",
      "10\n",
      "2.5\n",
      "2\n",
      "25\n",
      "1\n",
      "17\n"
     ]
    }
   ],
   "source": [
    "a = 5\n",
    "b = 2\n",
    "print(a + b) # penjumlahan\n",
    "print(a - b) # pengurangan\n",
    "print(a * b) # perkalian\n",
    "print(a / b) # pembagian desimal\n",
    "print(a // b) # pembagian integer\n",
    "print(a ** b) # pangkat\n",
    "print(a % b) # modulo\n",
    "\n",
    "print(a + b + 10)"
   ]
  },
  {
   "cell_type": "code",
   "execution_count": 94,
   "id": "b3744025-a61a-4163-8cd2-bd4c0165d169",
   "metadata": {},
   "outputs": [
    {
     "name": "stdout",
     "output_type": "stream",
     "text": [
      "False\n",
      "True\n",
      "True\n",
      "True\n",
      "True\n",
      "False\n",
      "False\n"
     ]
    }
   ],
   "source": [
    "a = 5\n",
    "b = 2\n",
    "c = 2\n",
    "print(a == b)\n",
    "print(c == b) #sama dengan\n",
    "print(a != b) #tidak sama dengan\n",
    "print(a > b) # besar dari\n",
    "print(a >= b) #besar dari sama dengan\n",
    "print(a < b) #kecil dari sama dengan\n",
    "print(a <= b) #kecil dari sama dengan"
   ]
  },
  {
   "cell_type": "code",
   "execution_count": 105,
   "id": "22e022cb-448b-4939-9806-e3053198779b",
   "metadata": {},
   "outputs": [
    {
     "name": "stdout",
     "output_type": "stream",
     "text": [
      "Python\n",
      "Hactive8\n",
      "PyPyPyPyPy\n",
      "True\n",
      "False\n"
     ]
    }
   ],
   "source": [
    "q = 'Py'\n",
    "w = 'thon'\n",
    "print(q + w)\n",
    "print('Hactive' + '8')\n",
    "print(q * a)\n",
    "print(q in 'Python')\n",
    "print(w in 'Pyton')"
   ]
  },
  {
   "cell_type": "code",
   "execution_count": 111,
   "id": "796ab569-48a5-4509-b7e3-a77ee9447e6f",
   "metadata": {},
   "outputs": [
    {
     "name": "stdout",
     "output_type": "stream",
     "text": [
      "HACTIVE8 KAMPUS\n",
      "hactive8 kampus\n",
      "Hactive8 kampus\n",
      "hActIVe8 kAMPUs\n",
      "Hactive8 Kampus\n"
     ]
    }
   ],
   "source": [
    "h = 'HaCTivE8 KampuS'\n",
    "print(h.upper())\n",
    "print(h.lower())\n",
    "print(h.capitalize())\n",
    "print(h.swapcase())\n",
    "print(h.title())"
   ]
  },
  {
   "cell_type": "code",
   "execution_count": 152,
   "id": "eb77357b-378f-45d6-bba6-3eb3b6bdfc2d",
   "metadata": {},
   "outputs": [],
   "source": [
    "#index ke 0  1  2    3    4           5            6    7   8  9  10\n",
    "daftar = [1, 2, 43, 'a', True, ['b', 300, False], 4.6, 1+1, a, q, w]\n",
    "# index minus                                               -3 -2 -1\n",
    "py = ['Python', 'KS19', 'asoyyy']\n",
    "# py = [12, 2, 10]"
   ]
  },
  {
   "cell_type": "code",
   "execution_count": 136,
   "id": "384c4e9c-2d11-4184-8620-7c70600c223a",
   "metadata": {
    "jupyter": {
     "source_hidden": true
    },
    "tags": []
   },
   "outputs": [],
   "source": [
    "# print(type(daftar))\n",
    "# print(daftar)\n",
    "# print(daftar[3])\n",
    "# print(daftar[5])\n",
    "# print(daftar[7])\n",
    "# print(daftar[-3])\n",
    "# print(daftar[1:6])\n",
    "print(daftar + py)\n",
    "print(py * 3)\n",
    "print(len(daftar))\n",
    "print(max(py))\n",
    "print(min(py))"
   ]
  },
  {
   "cell_type": "code",
   "execution_count": 156,
   "id": "5fa795ea-a052-49ab-b335-319c7ffca22a",
   "metadata": {},
   "outputs": [
    {
     "name": "stdout",
     "output_type": "stream",
     "text": [
      "[1, 2, 43, 'a', True, ['b', 300, False], 4.6, 2, ['Python', 'KS19', 'asoyyy'], 'Py', 'thon']\n",
      "[1, 2, 43, 'a', True, ['b', 300, False], 4.6, 2, ['Python', 'KS19', 'asoyyy'], 'udah malem', 'thon']\n",
      "[1, 2, 43, 'a', True, ['b', 300, False], 4.6, 2, ['Python', 'KS19', 'asoyyy'], 'udah malem', 'thon']\n",
      "[1.5, 'a', True, ['b', 300, False], 4.6, 2, ['Python', 'KS19', 'asoyyy'], 'udah malem', 'thon']\n"
     ]
    }
   ],
   "source": [
    "#index ke 0  1  2    3    4           5            6    7   8  9  10\n",
    "daftar = [1, 2, 43, 'a', True, ['b', 300, False], 4.6, 1+1, a, q, w]\n",
    "# index minus                                               -3 -2 -1\n",
    "py = ['Python', 'KS19', 'asoyyy']\n",
    "\n",
    "daftar[8] = py\n",
    "print(daftar)\n",
    "daftar[-2] = 'udah malem'\n",
    "print(daftar)\n",
    "# del daftar[3]\n",
    "print(daftar)\n",
    "daftar[:3] = [1.5]\n",
    "print(daftar)"
   ]
  },
  {
   "cell_type": "code",
   "execution_count": 162,
   "id": "cbee5f51-6700-4687-9e1c-3fec747ffd2d",
   "metadata": {},
   "outputs": [
    {
     "name": "stdout",
     "output_type": "stream",
     "text": [
      "(1, 2, 43, 'a', True, ['b', 300, False], 4.6, 2, 5, 'Py', 'thon')\n",
      "(2, 43, 'a', True)\n"
     ]
    }
   ],
   "source": [
    "tapel = (1, 2, 43, 'a', True, ['b', 300, False], 4.6, 1+1, a, q, w)\n",
    "print(tapel)\n",
    "print(tapel[1:5])"
   ]
  },
  {
   "cell_type": "code",
   "execution_count": 163,
   "id": "e31006fe-432c-416c-a578-585ba1deebd9",
   "metadata": {},
   "outputs": [],
   "source": [
    "(z, x, y) = (1, 2, 'a')\n"
   ]
  },
  {
   "cell_type": "code",
   "execution_count": 167,
   "id": "d0256d9a-e953-4073-b7ce-6b73c012f45e",
   "metadata": {},
   "outputs": [
    {
     "data": {
      "text/plain": [
       "str"
      ]
     },
     "execution_count": 167,
     "metadata": {},
     "output_type": "execute_result"
    }
   ],
   "source": [
    "type(y)"
   ]
  },
  {
   "cell_type": "code",
   "execution_count": 179,
   "id": "4b98bd0b-c8d8-42d8-8361-4f6d661cfa72",
   "metadata": {},
   "outputs": [
    {
     "name": "stdout",
     "output_type": "stream",
     "text": [
      "<class 'dict'>\n",
      "what\n",
      "{'apa': 'what', 'siapa': 'who', 'bagaimana': 'how', 'kapan': 'when'}\n",
      "{'siapa': 'who', 'bagaimana': 'how', 'kapan': 'when'}\n",
      "{}\n"
     ]
    }
   ],
   "source": [
    "kamus = {\n",
    "    'apa':'what', 'siapa':'who', 'bagaimana':'how'\n",
    "}\n",
    "print(type(kamus))\n",
    "print(kamus['apa'])\n",
    "kamus['kapan'] = 'when'\n",
    "print(kamus)\n",
    "del kamus['apa']\n",
    "print(kamus)\n",
    "# kamus.clear()\n",
    "print(kamus)"
   ]
  },
  {
   "cell_type": "code",
   "execution_count": 193,
   "id": "0c4213b7-7197-4a4c-9603-d8363eaf570b",
   "metadata": {},
   "outputs": [
    {
     "name": "stdout",
     "output_type": "stream",
     "text": [
      "{'kota': ['madagascar'], 'jalan': 'situ baru', 'nomor rumah': 10, 'pohon': ['cendana', 'mahoni', 'beringin'], 'akses': {'KRL': 'bisa', 'TJ': {'bisa': 'tapi susah'}, 'ojol': 'tidak'}}\n",
      "mahoni\n",
      "tapi susah\n",
      "dict_items([('kota', ['madagascar']), ('jalan', 'situ baru'), ('nomor rumah', 10), ('pohon', ['cendana', 'mahoni', 'beringin']), ('akses', {'KRL': 'bisa', 'TJ': {'bisa': 'tapi susah'}, 'ojol': 'tidak'})])\n",
      "\n",
      "dict_values([['madagascar'], 'situ baru', 10, ['cendana', 'mahoni', 'beringin'], {'KRL': 'bisa', 'TJ': {'bisa': 'tapi susah'}, 'ojol': 'tidak'}])\n",
      "\n",
      "dict_keys(['kota', 'jalan', 'nomor rumah', 'pohon', 'akses'])\n"
     ]
    }
   ],
   "source": [
    "alamat = {}\n",
    "\n",
    "alamat['kota'] = ['madagascar'] \n",
    "alamat['jalan'] = 'situ baru'\n",
    "alamat['nomor rumah'] = 10\n",
    "alamat['pohon'] = ['cendana', 'mahoni', 'beringin']\n",
    "alamat['akses'] = {'KRL':'bisa', 'TJ':{'bisa':'tapi susah'}, 'ojol':'tidak'}\n",
    "\n",
    "print(alamat)\n",
    "print(alamat['pohon'][1])\n",
    "print(alamat['akses']['TJ']['bisa'])\n",
    "print(alamat.items())\n",
    "print()\n",
    "print(alamat.values())\n",
    "print()\n",
    "print(alamat.keys())"
   ]
  },
  {
   "cell_type": "code",
   "execution_count": 196,
   "id": "d812f155-b5c8-41cd-b5db-4f802ac6a495",
   "metadata": {},
   "outputs": [
    {
     "data": {
      "text/plain": [
       "True"
      ]
     },
     "execution_count": 196,
     "metadata": {},
     "output_type": "execute_result"
    }
   ],
   "source": [
    "a = 10\n",
    "b = 2\n",
    "c = 10\n",
    "\n",
    "d = (\n",
    "    a == c\n",
    "    or c==a\n",
    "    or a == b\n",
    ")\n",
    "d"
   ]
  },
  {
   "cell_type": "code",
   "execution_count": 197,
   "id": "843863dc-943d-44b0-8354-282158a9e7fa",
   "metadata": {},
   "outputs": [
    {
     "data": {
      "text/plain": [
       "'ini tambahan update git'"
      ]
     },
     "execution_count": 197,
     "metadata": {},
     "output_type": "execute_result"
    }
   ],
   "source": [
    "'ini tambahan update git'"
   ]
  }
 ],
 "metadata": {
  "kernelspec": {
   "display_name": "Python 3 (ipykernel)",
   "language": "python",
   "name": "python3"
  },
  "language_info": {
   "codemirror_mode": {
    "name": "ipython",
    "version": 3
   },
   "file_extension": ".py",
   "mimetype": "text/x-python",
   "name": "python",
   "nbconvert_exporter": "python",
   "pygments_lexer": "ipython3",
   "version": "3.11.4"
  }
 },
 "nbformat": 4,
 "nbformat_minor": 5
}
